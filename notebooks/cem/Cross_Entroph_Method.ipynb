{
  "nbformat": 4,
  "nbformat_minor": 0,
  "metadata": {
    "accelerator": "GPU",
    "anaconda-cloud": {},
    "colab": {
      "name": "Cross-Entroph Method.ipynb",
      "provenance": [],
      "collapsed_sections": [],
      "toc_visible": true,
      "include_colab_link": true
    },
    "kernelspec": {
      "display_name": "Python 3",
      "language": "python",
      "name": "python3"
    },
    "language_info": {
      "codemirror_mode": {
        "name": "ipython",
        "version": 3
      },
      "file_extension": ".py",
      "mimetype": "text/x-python",
      "name": "python",
      "nbconvert_exporter": "python",
      "pygments_lexer": "ipython3",
      "version": "3.6.3"
    }
  },
  "cells": [
    {
      "cell_type": "markdown",
      "metadata": {
        "id": "view-in-github",
        "colab_type": "text"
      },
      "source": [
        "<a href=\"https://colab.research.google.com/github/fernandofsilva/RL/blob/main/notebooks/cem/Cross_Entroph_Method.ipynb\" target=\"_parent\"><img src=\"https://colab.research.google.com/assets/colab-badge.svg\" alt=\"Open In Colab\"/></a>"
      ]
    },
    {
      "cell_type": "markdown",
      "metadata": {
        "id": "UkN4rg6K5GDl"
      },
      "source": [
        "# Cross-Entropy Method\n",
        "\n",
        "---\n",
        "\n",
        "In this notebook, we will train a Cross-Entropy Method with OpenAI Gym's MountainCarContinuous environment."
      ]
    },
    {
      "cell_type": "markdown",
      "metadata": {
        "id": "4YaXdBQs5GDn"
      },
      "source": [
        "### 1. Import the Necessary Packages"
      ]
    },
    {
      "cell_type": "code",
      "metadata": {
        "colab": {
          "base_uri": "https://localhost:8080/"
        },
        "cellView": "form",
        "id": "BKBdrz-lqzbC",
        "outputId": "8941bbf6-eaf2-4828-b20d-6c4f980b1772"
      },
      "source": [
        "#@title Load custom imports and models\n",
        "# Start a Git repository\n",
        "!git init\n",
        "\n",
        "# Track repository, do not enter subdirectory\n",
        "!git remote add -f origin https://github.com/fernandofsilva/RL\n",
        "\n",
        "# Enable the tree check feature\n",
        "!git config core.sparseCheckout true\n",
        "\n",
        "# Create a file in the path: .git/info/sparse-checkout\n",
        "# That is inside the hidden .git directory that was created\n",
        "# by running the command: git init\n",
        "# And inside it enter the name of the sub directory you only want to clone\n",
        "!echo 'notebooks/cem' >> .git/info/sparse-checkout\n",
        "\n",
        "## Download with pull, not clone\n",
        "!git pull origin main\n",
        "\n",
        "# Move files to root\n",
        "!mv notebooks/cem/*.pth ."
      ],
      "execution_count": 1,
      "outputs": [
        {
          "output_type": "stream",
          "text": [
            "Initialized empty Git repository in /content/.git/\n",
            "Updating origin\n",
            "remote: Enumerating objects: 272, done.\u001b[K\n",
            "remote: Total 272 (delta 0), reused 0 (delta 0), pack-reused 272\u001b[K\n",
            "Receiving objects: 100% (272/272), 288.78 MiB | 48.64 MiB/s, done.\n",
            "Resolving deltas: 100% (122/122), done.\n",
            "From https://github.com/fernandofsilva/RL\n",
            " * [new branch]      main       -> origin/main\n",
            "From https://github.com/fernandofsilva/RL\n",
            " * branch            main       -> FETCH_HEAD\n"
          ],
          "name": "stdout"
        }
      ]
    },
    {
      "cell_type": "code",
      "metadata": {
        "id": "7aB81FwR5GDo",
        "colab": {
          "base_uri": "https://localhost:8080/"
        },
        "outputId": "50c92da3-777b-41a6-df01-7bdef4fdb0db"
      },
      "source": [
        "import gym\n",
        "import math\n",
        "import numpy as np\n",
        "from collections import deque\n",
        "import matplotlib.pyplot as plt\n",
        "%matplotlib inline\n",
        "\n",
        "import torch\n",
        "import torch.nn as nn\n",
        "import torch.nn.functional as F\n",
        "from torch.autograd import Variable\n",
        "\n",
        "!sudo apt-get install xvfb\n",
        "!python -m pip install pyvirtualdisplay\n",
        "from pyvirtualdisplay import Display\n",
        "display = Display(visible=0, size=(1400, 900))\n",
        "display.start()\n",
        "\n",
        "is_ipython = 'inline' in plt.get_backend()\n",
        "if is_ipython:\n",
        "    from IPython import display\n",
        "\n",
        "plt.ion()"
      ],
      "execution_count": null,
      "outputs": [
        {
          "output_type": "stream",
          "text": [
            "Reading package lists... Done\n",
            "Building dependency tree       \n",
            "Reading state information... Done\n",
            "The following NEW packages will be installed:\n",
            "  xvfb\n",
            "0 upgraded, 1 newly installed, 0 to remove and 29 not upgraded.\n",
            "Need to get 784 kB of archives.\n",
            "After this operation, 2,270 kB of additional disk space will be used.\n",
            "Get:1 http://archive.ubuntu.com/ubuntu bionic-updates/universe amd64 xvfb amd64 2:1.19.6-1ubuntu4.8 [784 kB]\n",
            "Fetched 784 kB in 1s (1,140 kB/s)\n",
            "debconf: unable to initialize frontend: Dialog\n",
            "debconf: (No usable dialog-like program is installed, so the dialog based frontend cannot be used. at /usr/share/perl5/Debconf/FrontEnd/Dialog.pm line 76, <> line 1.)\n",
            "debconf: falling back to frontend: Readline\n",
            "debconf: unable to initialize frontend: Readline\n",
            "debconf: (This frontend requires a controlling tty.)\n",
            "debconf: falling back to frontend: Teletype\n",
            "dpkg-preconfigure: unable to re-open stdin: \n",
            "Selecting previously unselected package xvfb.\n",
            "(Reading database ... 160975 files and directories currently installed.)\n",
            "Preparing to unpack .../xvfb_2%3a1.19.6-1ubuntu4.8_amd64.deb ...\n",
            "Unpacking xvfb (2:1.19.6-1ubuntu4.8) ...\n",
            "Setting up xvfb (2:1.19.6-1ubuntu4.8) ...\n",
            "Processing triggers for man-db (2.8.3-2ubuntu0.1) ...\n",
            "Collecting pyvirtualdisplay\n",
            "  Downloading https://files.pythonhosted.org/packages/19/88/7a198a5ee3baa3d547f5a49574cd8c3913b216f5276b690b028f89ffb325/PyVirtualDisplay-2.1-py3-none-any.whl\n",
            "Collecting EasyProcess\n",
            "  Downloading https://files.pythonhosted.org/packages/48/3c/75573613641c90c6d094059ac28adb748560d99bd27ee6f80cce398f404e/EasyProcess-0.3-py2.py3-none-any.whl\n",
            "Installing collected packages: EasyProcess, pyvirtualdisplay\n",
            "Successfully installed EasyProcess-0.3 pyvirtualdisplay-2.1\n"
          ],
          "name": "stdout"
        }
      ]
    },
    {
      "cell_type": "markdown",
      "metadata": {
        "id": "G4ktVk2g5GDp"
      },
      "source": [
        "### 2. Instantiate the Environment and Agent"
      ]
    },
    {
      "cell_type": "code",
      "metadata": {
        "colab": {
          "base_uri": "https://localhost:8080/"
        },
        "id": "QRYO400H5GDp",
        "outputId": "fed70d72-1f99-4b26-b27f-ca9fcd693c40"
      },
      "source": [
        "device = torch.device(\"cuda:0\" if torch.cuda.is_available() else \"cpu\")\n",
        "\n",
        "env = gym.make('MountainCarContinuous-v0')\n",
        "env.seed(101)\n",
        "np.random.seed(101)\n",
        "\n",
        "print('observation space:', env.observation_space)\n",
        "print('action space:', env.action_space)\n",
        "print('  - low:', env.action_space.low)\n",
        "print('  - high:', env.action_space.high)\n",
        "\n",
        "class Agent(nn.Module):\n",
        "    def __init__(self, env, h_size=16):\n",
        "        super(Agent, self).__init__()\n",
        "        self.env = env\n",
        "        # state, hidden layer, action sizes\n",
        "        self.s_size = env.observation_space.shape[0]\n",
        "        self.h_size = h_size\n",
        "        self.a_size = env.action_space.shape[0]\n",
        "        # define layers\n",
        "        self.fc1 = nn.Linear(self.s_size, self.h_size)\n",
        "        self.fc2 = nn.Linear(self.h_size, self.a_size)\n",
        "        \n",
        "    def set_weights(self, weights):\n",
        "        s_size = self.s_size\n",
        "        h_size = self.h_size\n",
        "        a_size = self.a_size\n",
        "        # separate the weights for each layer\n",
        "        fc1_end = (s_size*h_size)+h_size\n",
        "        fc1_W = torch.from_numpy(weights[:s_size*h_size].reshape(s_size, h_size))\n",
        "        fc1_b = torch.from_numpy(weights[s_size*h_size:fc1_end])\n",
        "        fc2_W = torch.from_numpy(weights[fc1_end:fc1_end+(h_size*a_size)].reshape(h_size, a_size))\n",
        "        fc2_b = torch.from_numpy(weights[fc1_end+(h_size*a_size):])\n",
        "        # set the weights for each layer\n",
        "        self.fc1.weight.data.copy_(fc1_W.view_as(self.fc1.weight.data))\n",
        "        self.fc1.bias.data.copy_(fc1_b.view_as(self.fc1.bias.data))\n",
        "        self.fc2.weight.data.copy_(fc2_W.view_as(self.fc2.weight.data))\n",
        "        self.fc2.bias.data.copy_(fc2_b.view_as(self.fc2.bias.data))\n",
        "    \n",
        "    def get_weights_dim(self):\n",
        "        return (self.s_size+1)*self.h_size + (self.h_size+1)*self.a_size\n",
        "        \n",
        "    def forward(self, x):\n",
        "        x = F.relu(self.fc1(x))\n",
        "        x = F.tanh(self.fc2(x))\n",
        "        return x.cpu().data\n",
        "        \n",
        "    def evaluate(self, weights, gamma=1.0, max_t=5000):\n",
        "        self.set_weights(weights)\n",
        "        episode_return = 0.0\n",
        "        state = self.env.reset()\n",
        "        for t in range(max_t):\n",
        "            state = torch.from_numpy(state).float().to(device)\n",
        "            action = self.forward(state)\n",
        "            state, reward, done, _ = self.env.step(action)\n",
        "            episode_return += reward * math.pow(gamma, t)\n",
        "            if done:\n",
        "                break\n",
        "        return episode_return\n",
        "    \n",
        "agent = Agent(env).to(device)"
      ],
      "execution_count": null,
      "outputs": [
        {
          "output_type": "stream",
          "text": [
            "observation space: Box(-1.2000000476837158, 0.6000000238418579, (2,), float32)\n",
            "action space: Box(-1.0, 1.0, (1,), float32)\n",
            "  - low: [-1.]\n",
            "  - high: [1.]\n"
          ],
          "name": "stdout"
        }
      ]
    },
    {
      "cell_type": "markdown",
      "metadata": {
        "id": "FrOwUfVC5GDq"
      },
      "source": [
        "### 3. Train the Agent with a Cross-Entropy Method\n",
        "\n",
        "Run the code cell below to train the agent from scratch.  Alternatively, you can skip to the next code cell to load the pre-trained weights from file."
      ]
    },
    {
      "cell_type": "code",
      "metadata": {
        "colab": {
          "base_uri": "https://localhost:8080/",
          "height": 585
        },
        "id": "9hvndB0s5GDq",
        "outputId": "1d4b584a-3532-4ddd-883c-e72121795e9c"
      },
      "source": [
        "def cem(n_iterations=500, max_t=1000, gamma=1.0, print_every=10, pop_size=50, elite_frac=0.2, sigma=0.5):\n",
        "    \"\"\"PyTorch implementation of a cross-entropy method.\n",
        "        \n",
        "    Params\n",
        "    ======\n",
        "        n_iterations (int): maximum number of training iterations\n",
        "        max_t (int): maximum number of timesteps per episode\n",
        "        gamma (float): discount rate\n",
        "        print_every (int): how often to print average score (over last 100 episodes)\n",
        "        pop_size (int): size of population at each iteration\n",
        "        elite_frac (float): percentage of top performers to use in update\n",
        "        sigma (float): standard deviation of additive noise\n",
        "    \"\"\"\n",
        "    n_elite=int(pop_size*elite_frac)\n",
        "\n",
        "    scores_deque = deque(maxlen=100)\n",
        "    scores = []\n",
        "    best_weight = sigma*np.random.randn(agent.get_weights_dim())\n",
        "\n",
        "    for i_iteration in range(1, n_iterations+1):\n",
        "        weights_pop = [best_weight + (sigma*np.random.randn(agent.get_weights_dim())) for i in range(pop_size)]\n",
        "        rewards = np.array([agent.evaluate(weights, gamma, max_t) for weights in weights_pop])\n",
        "\n",
        "        elite_idxs = rewards.argsort()[-n_elite:]\n",
        "        elite_weights = [weights_pop[i] for i in elite_idxs]\n",
        "        best_weight = np.array(elite_weights).mean(axis=0)\n",
        "\n",
        "        reward = agent.evaluate(best_weight, gamma=1.0)\n",
        "        scores_deque.append(reward)\n",
        "        scores.append(reward)\n",
        "        \n",
        "        torch.save(agent.state_dict(), 'checkpoint.pth')\n",
        "        \n",
        "        if i_iteration % print_every == 0:\n",
        "            print('Episode {}\\tAverage Score: {:.2f}'.format(i_iteration, np.mean(scores_deque)))\n",
        "\n",
        "        if np.mean(scores_deque)>=90.0:\n",
        "            print('\\nEnvironment solved in {:d} iterations!\\tAverage Score: {:.2f}'.format(i_iteration-100, np.mean(scores_deque)))\n",
        "            break\n",
        "    return scores\n",
        "\n",
        "scores = cem()\n",
        "\n",
        "# plot the scores\n",
        "fig = plt.figure()\n",
        "ax = fig.add_subplot(111)\n",
        "plt.plot(np.arange(1, len(scores)+1), scores)\n",
        "plt.ylabel('Score')\n",
        "plt.xlabel('Episode #')\n",
        "plt.show()"
      ],
      "execution_count": null,
      "outputs": [
        {
          "output_type": "stream",
          "text": [
            "/usr/local/lib/python3.7/dist-packages/torch/nn/functional.py:1628: UserWarning: nn.functional.tanh is deprecated. Use torch.tanh instead.\n",
            "  warnings.warn(\"nn.functional.tanh is deprecated. Use torch.tanh instead.\")\n"
          ],
          "name": "stderr"
        },
        {
          "output_type": "stream",
          "text": [
            "Episode 10\tAverage Score: -1.44\n",
            "Episode 20\tAverage Score: -3.98\n",
            "Episode 30\tAverage Score: -4.18\n",
            "Episode 40\tAverage Score: 2.57\n",
            "Episode 50\tAverage Score: 18.74\n",
            "Episode 60\tAverage Score: 29.35\n",
            "Episode 70\tAverage Score: 38.69\n",
            "Episode 80\tAverage Score: 45.65\n",
            "Episode 90\tAverage Score: 47.98\n",
            "Episode 100\tAverage Score: 52.56\n",
            "Episode 110\tAverage Score: 62.09\n",
            "Episode 120\tAverage Score: 72.28\n",
            "Episode 130\tAverage Score: 82.21\n",
            "Episode 140\tAverage Score: 89.48\n",
            "\n",
            "Environment solved in 47 iterations!\tAverage Score: 90.83\n"
          ],
          "name": "stdout"
        },
        {
          "output_type": "display_data",
          "data": {
            "image/png": "[encoded data removed]",
            "text/plain": [
              "<Figure size 432x288 with 1 Axes>"
            ]
          },
          "metadata": {
            "tags": [],
            "needs_background": "light"
          }
        }
      ]
    },
    {
      "cell_type": "markdown",
      "metadata": {
        "id": "StyAuNwd5GDr"
      },
      "source": [
        "### 4. Watch a Smart Agent!\n",
        "\n",
        "In the next code cell, you will load the trained weights from file to watch a smart agent!"
      ]
    },
    {
      "cell_type": "code",
      "metadata": {
        "colab": {
          "base_uri": "https://localhost:8080/",
          "height": 248
        },
        "id": "WE2u7iZA5GDr",
        "outputId": "be337395-b8e9-4e15-a7ee-7ccc537d2ddc"
      },
      "source": [
        "# load the weights from file\n",
        "agent.load_state_dict(torch.load('checkpoint.pth'))\n",
        "\n",
        "state = env.reset()\n",
        "img = plt.imshow(env.render(mode='rgb_array'))\n",
        "while True:\n",
        "    state = torch.from_numpy(state).float().to(device)\n",
        "    with torch.no_grad():\n",
        "        action = agent(state)\n",
        "    img.set_data(env.render(mode='rgb_array')) \n",
        "    plt.axis('off')\n",
        "    display.display(plt.gcf())\n",
        "    display.clear_output(wait=True)\n",
        "    next_state, reward, done, _ = env.step(action)\n",
        "    state = next_state\n",
        "    if done:\n",
        "        break\n",
        "\n",
        "env.close()"
      ],
      "execution_count": null,
      "outputs": [
        {
          "output_type": "display_data",
          "data": {
            "image/png": "[encoded data removed]",
            "text/plain": [
              "<Figure size 432x288 with 1 Axes>"
            ]
          },
          "metadata": {
            "tags": [],
            "needs_background": "light"
          }
        }
      ]
    }
  ]
}